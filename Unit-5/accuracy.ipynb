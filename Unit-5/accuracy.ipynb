{
 "cells": [
  {
   "cell_type": "markdown",
   "metadata": {},
   "source": [
    "BLEU (Bilingual Evaluation Understudy): Measures the overlap of n-grams between the generated and reference text.\n"
   ]
  },
  {
   "cell_type": "code",
   "execution_count": 3,
   "metadata": {},
   "outputs": [
    {
     "name": "stdout",
     "output_type": "stream",
     "text": [
      "Collecting nltk\n",
      "  Using cached nltk-3.9.1-py3-none-any.whl.metadata (2.9 kB)\n",
      "Collecting click (from nltk)\n",
      "  Using cached click-8.1.7-py3-none-any.whl.metadata (3.0 kB)\n",
      "Requirement already satisfied: joblib in d:\\basudev\\genai-dsc-2024\\gaifndtion\\lib\\site-packages (from nltk) (1.4.2)\n",
      "Requirement already satisfied: regex>=2021.8.3 in d:\\basudev\\genai-dsc-2024\\gaifndtion\\lib\\site-packages (from nltk) (2024.7.24)\n",
      "Requirement already satisfied: tqdm in d:\\basudev\\genai-dsc-2024\\gaifndtion\\lib\\site-packages (from nltk) (4.66.5)\n",
      "Requirement already satisfied: colorama in d:\\basudev\\genai-dsc-2024\\gaifndtion\\lib\\site-packages (from click->nltk) (0.4.6)\n",
      "Using cached nltk-3.9.1-py3-none-any.whl (1.5 MB)\n",
      "Using cached click-8.1.7-py3-none-any.whl (97 kB)\n",
      "Installing collected packages: click, nltk\n",
      "Successfully installed click-8.1.7 nltk-3.9.1\n",
      "Note: you may need to restart the kernel to use updated packages.\n"
     ]
    },
    {
     "name": "stderr",
     "output_type": "stream",
     "text": [
      "\n",
      "[notice] A new release of pip is available: 24.2 -> 24.3.1\n",
      "[notice] To update, run: python.exe -m pip install --upgrade pip\n"
     ]
    }
   ],
   "source": [
    "%pip install nltk\n"
   ]
  },
  {
   "cell_type": "code",
   "execution_count": 21,
   "metadata": {},
   "outputs": [
    {
     "name": "stdout",
     "output_type": "stream",
     "text": [
      "BLEU-1 (Unigram Precision): 0.667\n",
      "BLEU-2 (Bigram Precision): 0.516\n",
      "Unigram Overlap: {'The', 'mat', 'on', 'the'}\n",
      "Bigram Overlap: {('on', 'the'), ('the', 'mat')}\n"
     ]
    }
   ],
   "source": [
    "from nltk.translate.bleu_score import sentence_bleu, SmoothingFunction\n",
    "\n",
    "# Reference and candidate texts\n",
    "reference = [\"The cat is on the mat\".split()]  # Tokenized reference\n",
    "candidate = \"The dog was on the mat\".split()  # Tokenized candidate\n",
    "\n",
    "# Calculate BLEU-1 (unigram) and BLEU-2 (bigram)\n",
    "bleu_1 = sentence_bleu(reference, candidate, weights=(1, 0, 0, 0), smoothing_function=SmoothingFunction().method1)\n",
    "bleu_2 = sentence_bleu(reference, candidate, weights=(0.5, 0.5, 0, 0), smoothing_function=SmoothingFunction().method1)\n",
    "\n",
    "print(f\"BLEU-1 (Unigram Precision): {round(bleu_1, 3)}\")\n",
    "print(f\"BLEU-2 (Bigram Precision): {round(bleu_2, 3)}\")\n",
    "\n",
    "# Analyze n-gram overlaps\n",
    "unigrams_reference = set(reference[0])  # Unique unigrams in reference\n",
    "unigrams_candidate = set(candidate)  # Unique unigrams in candidate\n",
    "bigram_reference = set(zip(reference[0], reference[0][1:]))  # Bigrams in reference\n",
    "bigram_candidate = set(zip(candidate, candidate[1:]))  # Bigrams in candidate\n",
    "\n",
    "# Print overlaps\n",
    "print(f\"Unigram Overlap: {unigrams_reference & unigrams_candidate}\")\n",
    "print(f\"Bigram Overlap: {bigram_reference & bigram_candidate}\")\n"
   ]
  },
  {
   "cell_type": "markdown",
   "metadata": {},
   "source": [
    "ROUGE-1, ROUGE-2, and ROUGE-L,"
   ]
  },
  {
   "cell_type": "code",
   "execution_count": 22,
   "metadata": {},
   "outputs": [
    {
     "name": "stdout",
     "output_type": "stream",
     "text": [
      "Collecting rouge-score\n",
      "  Downloading rouge_score-0.1.2.tar.gz (17 kB)\n",
      "  Preparing metadata (setup.py): started\n",
      "  Preparing metadata (setup.py): finished with status 'done'\n",
      "Requirement already satisfied: absl-py in d:\\basudev\\genai-dsc-2024\\gaifndtion\\lib\\site-packages (from rouge-score) (2.1.0)\n",
      "Requirement already satisfied: nltk in d:\\basudev\\genai-dsc-2024\\gaifndtion\\lib\\site-packages (from rouge-score) (3.9.1)\n",
      "Requirement already satisfied: numpy in d:\\basudev\\genai-dsc-2024\\gaifndtion\\lib\\site-packages (from rouge-score) (1.24.3)\n",
      "Requirement already satisfied: six>=1.14.0 in d:\\basudev\\genai-dsc-2024\\gaifndtion\\lib\\site-packages (from rouge-score) (1.16.0)\n",
      "Requirement already satisfied: click in d:\\basudev\\genai-dsc-2024\\gaifndtion\\lib\\site-packages (from nltk->rouge-score) (8.1.7)\n",
      "Requirement already satisfied: joblib in d:\\basudev\\genai-dsc-2024\\gaifndtion\\lib\\site-packages (from nltk->rouge-score) (1.4.2)\n",
      "Requirement already satisfied: regex>=2021.8.3 in d:\\basudev\\genai-dsc-2024\\gaifndtion\\lib\\site-packages (from nltk->rouge-score) (2024.7.24)\n",
      "Requirement already satisfied: tqdm in d:\\basudev\\genai-dsc-2024\\gaifndtion\\lib\\site-packages (from nltk->rouge-score) (4.66.5)\n",
      "Requirement already satisfied: colorama in d:\\basudev\\genai-dsc-2024\\gaifndtion\\lib\\site-packages (from click->nltk->rouge-score) (0.4.6)\n",
      "Building wheels for collected packages: rouge-score\n",
      "  Building wheel for rouge-score (setup.py): started\n",
      "  Building wheel for rouge-score (setup.py): finished with status 'done'\n",
      "  Created wheel for rouge-score: filename=rouge_score-0.1.2-py3-none-any.whl size=24971 sha256=00be6254b6a9001c7168d7861a5f6dbdf13c105f7ec39bc46b832ea36927c464\n",
      "  Stored in directory: c:\\users\\admin\\appdata\\local\\pip\\cache\\wheels\\1e\\19\\43\\8a442dc83660ca25e163e1bd1f89919284ab0d0c1475475148\n",
      "Successfully built rouge-score\n",
      "Installing collected packages: rouge-score\n",
      "Successfully installed rouge-score-0.1.2\n",
      "Note: you may need to restart the kernel to use updated packages.\n"
     ]
    },
    {
     "name": "stderr",
     "output_type": "stream",
     "text": [
      "\n",
      "[notice] A new release of pip is available: 24.2 -> 24.3.1\n",
      "[notice] To update, run: python.exe -m pip install --upgrade pip\n"
     ]
    }
   ],
   "source": [
    "%pip install rouge-score\n"
   ]
  },
  {
   "cell_type": "code",
   "execution_count": 23,
   "metadata": {},
   "outputs": [
    {
     "name": "stdout",
     "output_type": "stream",
     "text": [
      "ROUGE-1 (Unigram Overlap):\n",
      "Precision: 0.833\n",
      "Recall: 0.833\n",
      "F1-Score: 0.833\n",
      "\n",
      "ROUGE-2 (Bigram Overlap):\n",
      "Precision: 0.6\n",
      "Recall: 0.6\n",
      "F1-Score: 0.6\n",
      "\n",
      "ROUGE-L (Longest Common Subsequence):\n",
      "Precision: 0.833\n",
      "Recall: 0.833\n",
      "F1-Score: 0.833\n"
     ]
    }
   ],
   "source": [
    "from rouge_score import rouge_scorer\n",
    "\n",
    "# Reference and candidate texts\n",
    "reference = \"The cat is on the mat\"\n",
    "candidate = \"The cat sat on the mat\"\n",
    "\n",
    "# Initialize ROUGE scorer\n",
    "scorer = rouge_scorer.RougeScorer(['rouge1', 'rouge2', 'rougeL'], use_stemmer=True)\n",
    "\n",
    "# Calculate ROUGE scores\n",
    "scores = scorer.score(reference, candidate)\n",
    "\n",
    "# Display ROUGE scores\n",
    "print(\"ROUGE-1 (Unigram Overlap):\")\n",
    "print(f\"Precision: {round(scores['rouge1'].precision, 3)}\")\n",
    "print(f\"Recall: {round(scores['rouge1'].recall, 3)}\")\n",
    "print(f\"F1-Score: {round(scores['rouge1'].fmeasure, 3)}\")\n",
    "\n",
    "print(\"\\nROUGE-2 (Bigram Overlap):\")\n",
    "print(f\"Precision: {round(scores['rouge2'].precision, 3)}\")\n",
    "print(f\"Recall: {round(scores['rouge2'].recall, 3)}\")\n",
    "print(f\"F1-Score: {round(scores['rouge2'].fmeasure, 3)}\")\n",
    "\n",
    "print(\"\\nROUGE-L (Longest Common Subsequence):\")\n",
    "print(f\"Precision: {round(scores['rougeL'].precision, 3)}\")\n",
    "print(f\"Recall: {round(scores['rougeL'].recall, 3)}\")\n",
    "print(f\"F1-Score: {round(scores['rougeL'].fmeasure, 3)}\")\n"
   ]
  },
  {
   "cell_type": "markdown",
   "metadata": {},
   "source": [
    "METEOR"
   ]
  },
  {
   "cell_type": "code",
   "execution_count": 25,
   "metadata": {},
   "outputs": [
    {
     "name": "stdout",
     "output_type": "stream",
     "text": [
      "METEOR score: 0.654\n"
     ]
    }
   ],
   "source": [
    "from nltk.translate.meteor_score import meteor_score\n",
    "\n",
    "# Reference and candidate texts (tokenized as lists of words)\n",
    "reference = [\"The\", \"quick\", \"brown\", \"fox\", \"jumps\", \"over\", \"the\", \"lazy\", \"dog\"]\n",
    "candidate = [\"A\", \"fast\", \"brown\", \"fox\", \"leaped\", \"over\", \"a\", \"sleeping\", \"dog\"]\n",
    "\n",
    "# Calculate METEOR score\n",
    "score = meteor_score([reference], candidate)\n",
    "print(f\"METEOR score: {round(score, 3)}\")\n",
    "\n"
   ]
  },
  {
   "cell_type": "markdown",
   "metadata": {},
   "source": [
    "TER"
   ]
  },
  {
   "cell_type": "code",
   "execution_count": 26,
   "metadata": {},
   "outputs": [
    {
     "name": "stdout",
     "output_type": "stream",
     "text": [
      "Collecting translate-toolkit\n",
      "  Downloading translate_toolkit-3.14.1-py3-none-any.whl.metadata (12 kB)\n",
      "Collecting lxml>=4.6.3 (from translate-toolkit)\n",
      "  Downloading lxml-5.3.0-cp311-cp311-win_amd64.whl.metadata (3.9 kB)\n",
      "Requirement already satisfied: wcwidth>=0.2.10 in d:\\basudev\\genai-dsc-2024\\gaifndtion\\lib\\site-packages (from translate-toolkit) (0.2.13)\n",
      "Downloading translate_toolkit-3.14.1-py3-none-any.whl (745 kB)\n",
      "   ---------------------------------------- 0.0/745.2 kB ? eta -:--:--\n",
      "   --------------------------------------- 745.2/745.2 kB 32.2 MB/s eta 0:00:00\n",
      "Downloading lxml-5.3.0-cp311-cp311-win_amd64.whl (3.8 MB)\n",
      "   ---------------------------------------- 0.0/3.8 MB ? eta -:--:--\n",
      "   ---------------------------------------- 3.8/3.8 MB 28.4 MB/s eta 0:00:00\n",
      "Installing collected packages: lxml, translate-toolkit\n",
      "Successfully installed lxml-5.3.0 translate-toolkit-3.14.1\n",
      "Note: you may need to restart the kernel to use updated packages.\n"
     ]
    },
    {
     "name": "stderr",
     "output_type": "stream",
     "text": [
      "\n",
      "[notice] A new release of pip is available: 24.2 -> 24.3.1\n",
      "[notice] To update, run: python.exe -m pip install --upgrade pip\n"
     ]
    }
   ],
   "source": [
    "%pip install translate-toolkit\n"
   ]
  },
  {
   "cell_type": "code",
   "execution_count": 28,
   "metadata": {},
   "outputs": [
    {
     "name": "stdout",
     "output_type": "stream",
     "text": [
      "TER score: 0.556\n"
     ]
    }
   ],
   "source": [
    "from nltk.util import ngrams\n",
    "from typing import List\n",
    "\n",
    "def calculate_ter(reference: str, hypothesis: str) -> float:\n",
    "    \"\"\"\n",
    "    Calculate Translation Edit Rate (TER).\n",
    "    Arguments:\n",
    "        reference: The reference translation (ground truth).\n",
    "        hypothesis: The hypothesis (candidate) translation.\n",
    "    Returns:\n",
    "        TER score as a float (lower is better).\n",
    "    \"\"\"\n",
    "    ref_tokens = reference.split()\n",
    "    hyp_tokens = hypothesis.split()\n",
    "\n",
    "    # Compute edit distance\n",
    "    import nltk\n",
    "    edit_distance = nltk.edit_distance(ref_tokens, hyp_tokens)\n",
    "    \n",
    "    # TER = Edit Distance / Reference Length\n",
    "    ter_score = edit_distance / len(ref_tokens)\n",
    "    return ter_score\n",
    "\n",
    "\n",
    "# Reference and candidate translations\n",
    "reference = \"The quick brown fox jumps over the lazy dog.\"\n",
    "hypothesis = \"A fast brown fox leaped over a sleeping dog.\"\n",
    "\n",
    "# Calculate TER score\n",
    "ter_score = calculate_ter(reference, hypothesis)\n",
    "print(f\"TER score: {round(ter_score, 3)}\")\n",
    "\n"
   ]
  }
 ],
 "metadata": {
  "kernelspec": {
   "display_name": "gaifndtion",
   "language": "python",
   "name": "python3"
  },
  "language_info": {
   "codemirror_mode": {
    "name": "ipython",
    "version": 3
   },
   "file_extension": ".py",
   "mimetype": "text/x-python",
   "name": "python",
   "nbconvert_exporter": "python",
   "pygments_lexer": "ipython3",
   "version": "3.11.9"
  }
 },
 "nbformat": 4,
 "nbformat_minor": 2
}
